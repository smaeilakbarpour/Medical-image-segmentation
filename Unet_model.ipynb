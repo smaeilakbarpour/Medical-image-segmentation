{
 "cells": [
  {
   "cell_type": "code",
   "execution_count": 1,
   "id": "81e49f9c",
   "metadata": {},
   "outputs": [],
   "source": [
    "def Unet_model():\n",
    "    \n",
    "    num_classes=3\n",
    "    inputs = Input((65, 65, 3))\n",
    "    \n",
    "    # Encoder\n",
    "    conv1 = Conv2D(32, 3, activation='relu', padding='same')(inputs)\n",
    "    conv1 = Conv2D(32, 3, activation='relu', padding='same')(conv1)\n",
    "    pool1 = MaxPooling2D(pool_size=(2, 2))(conv1)\n",
    "    \n",
    "    conv2 = Conv2D(64, 3, activation='relu', padding='same')(pool1)\n",
    "    conv2 = Conv2D(64, 3, activation='relu', padding='same')(conv2)\n",
    "    pool2 = MaxPooling2D(pool_size=(2, 2))(conv2)\n",
    "    \n",
    "    conv3 = Conv2D(128, 3, activation='relu', padding='same')(pool2)\n",
    "    conv3 = Conv2D(128, 3, activation='relu', padding='same')(conv3)\n",
    "    pool3 = MaxPooling2D(pool_size=(2, 2))(conv3)\n",
    "    \n",
    "    # Bottleneck\n",
    "    conv4 = Conv2D(256, 3, activation='relu', padding='same')(pool3)\n",
    "    conv4 = Conv2D(256, 3, activation='relu', padding='same')(conv4)\n",
    "    \n",
    "    # Decoder\n",
    "    up5 = UpSampling2D(size=(2, 2))(conv4)\n",
    "    up5 = Conv2D(128, 2, activation='relu', padding='same')(up5)\n",
    "    merge5 = concatenate([conv3, up5], axis=3)\n",
    "    conv5 = Conv2D(128, 3, activation='relu', padding='same')(merge5)\n",
    "    conv5 = Conv2D(128, 3, activation='relu', padding='same')(conv5)\n",
    "    \n",
    "    up6 = UpSampling2D(size=(2, 2))(conv5)\n",
    "    up6 = Conv2D(64, 2, activation='relu', padding='same')(up6)\n",
    "    merge6 = concatenate([conv2, up6], axis=3)\n",
    "    conv6 = Conv2D(64, 3, activation='relu', padding='same')(merge6)\n",
    "    conv6 = Conv2D(64, 3, activation='relu', padding='same')(conv6)\n",
    "    #print (conv6.shape)\n",
    "    up7 = UpSampling2D(size=(2, 2))(conv6)\n",
    "    #print (up7.shape)\n",
    "    up7 = ZeroPadding2D(padding=(1, 1))(up7)\n",
    "    #print (up7.shape)\n",
    "    up7 = Conv2D(32, 2, activation='relu', padding='valid')(up7)\n",
    "    #up7 = Conv2D(32, 2, activation='relu', padding='same')(up7)\n",
    "    #print (up7.shape)\n",
    "    merge7 = concatenate([conv1, up7], axis=3)\n",
    "    conv7 = Conv2D(32, 3, activation='relu', padding='same')(merge7)\n",
    "    conv7 = Conv2D(32, 3, activation='relu', padding='same')(conv7)\n",
    "    \n",
    "    # Output\n",
    "    outputs = Conv2D(num_classes, 1, activation='softmax')(conv7)\n",
    "    \n",
    "    # Model\n",
    "    model = Model(inputs=[inputs], outputs=[outputs])\n",
    "    model.summary()\n",
    "    \n",
    "    return model\n",
    "print ('Your Unet model is ready to use')"
   ]
  }
 ],
 "metadata": {
  "kernelspec": {
   "display_name": "Python 3 (ipykernel)",
   "language": "python",
   "name": "python3"
  },
  "language_info": {
   "codemirror_mode": {
    "name": "ipython",
    "version": 3
   },
   "file_extension": ".py",
   "mimetype": "text/x-python",
   "name": "python",
   "nbconvert_exporter": "python",
   "pygments_lexer": "ipython3",
   "version": "3.9.16"
  }
 },
 "nbformat": 4,
 "nbformat_minor": 5
}
