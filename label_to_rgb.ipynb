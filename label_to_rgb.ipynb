{
 "cells": [
  {
   "cell_type": "code",
   "execution_count": 1,
   "id": "5eedd678",
   "metadata": {},
   "outputs": [],
   "source": [
    "def label_to_rgb(pred_mask):\n",
    "    \n",
    "    segmented_img = np.empty((pred_mask.shape[0], pred_mask.shape[1], 3))\n",
    "    \n",
    "    segmented_img[(pred_mask == 0)] = (255, 0, 0)\n",
    "    segmented_img[(pred_mask == 1)] = (0, 0, 255)\n",
    "    segmented_img[(pred_mask == 2)] = (255, 255, 255)\n",
    "\n",
    "    segmented_img = segmented_img.astype(np.uint8)\n",
    "    return(segmented_img)\n",
    "print ('Your \"label_to_rgb\" function is ready to use')"
   ]
  }
 ],
 "metadata": {
  "kernelspec": {
   "display_name": "Python 3 (ipykernel)",
   "language": "python",
   "name": "python3"
  },
  "language_info": {
   "codemirror_mode": {
    "name": "ipython",
    "version": 3
   },
   "file_extension": ".py",
   "mimetype": "text/x-python",
   "name": "python",
   "nbconvert_exporter": "python",
   "pygments_lexer": "ipython3",
   "version": "3.9.16"
  }
 },
 "nbformat": 4,
 "nbformat_minor": 5
}
