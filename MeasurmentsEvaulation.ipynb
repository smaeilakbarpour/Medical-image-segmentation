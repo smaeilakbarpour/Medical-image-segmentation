{
 "cells": [
  {
   "cell_type": "code",
   "execution_count": 2,
   "id": "641c404c",
   "metadata": {},
   "outputs": [],
   "source": [
    "def MeasurmentsEvaulation(B, G):\n",
    "    W = 1\n",
    "    TP = np.sum(np.logical_and(B, G))\n",
    "    TN = np.sum(np.logical_not(np.logical_or(B, G)))\n",
    "    FP = np.sum(np.logical_or(B, G)) - np.sum(G)\n",
    "    FN = np.sum(np.logical_or(B, G)) - np.sum(B)\n",
    "    sensitivity = (TP / (TP + FN)) * 100\n",
    "    precision = (TP / (TP + FP)) * 100\n",
    "    specificity = (TN / (TN + FP)) * 100\n",
    "    accuracy = ((TP + TN) / (TN + FP + FN + TP)) * 100\n",
    "    JaccardIndex = (TP / (FP + TP + FN)) * 100\n",
    "    DiceIndex = (TP / (FP + TP + TP + FN)) * 200\n",
    "    Fscore = ((precision * sensitivity) / (precision + sensitivity)) * 200\n",
    "    return sensitivity, precision, specificity, accuracy, JaccardIndex, DiceIndex, Fscore\n"
   ]
  }
 ],
 "metadata": {
  "kernelspec": {
   "display_name": "Python 3 (ipykernel)",
   "language": "python",
   "name": "python3"
  },
  "language_info": {
   "codemirror_mode": {
    "name": "ipython",
    "version": 3
   },
   "file_extension": ".py",
   "mimetype": "text/x-python",
   "name": "python",
   "nbconvert_exporter": "python",
   "pygments_lexer": "ipython3",
   "version": "3.9.16"
  }
 },
 "nbformat": 4,
 "nbformat_minor": 5
}
