{
 "cells": [
  {
   "cell_type": "code",
   "execution_count": 1,
   "id": "ba581361",
   "metadata": {},
   "outputs": [],
   "source": [
    "def visualevaluation1 (mask2, Im,save_result):\n",
    "    # Display the image\n",
    "    plt.imshow(Im, cmap='gray')\n",
    "\n",
    "    # Find boundaries\n",
    "    B = measure.find_contours(mask2, 0.5)    #0.8 <1   \n",
    "\n",
    "    # Plot boundaries\n",
    "    for boundary in B:\n",
    "        plt.plot(boundary[:, 1], boundary[:, 0], linewidth=1, color='b')\n",
    "    plt.savefig(save_result, dpi=600)    \n",
    "    plt.show()    "
   ]
  }
 ],
 "metadata": {
  "kernelspec": {
   "display_name": "Python 3 (ipykernel)",
   "language": "python",
   "name": "python3"
  },
  "language_info": {
   "codemirror_mode": {
    "name": "ipython",
    "version": 3
   },
   "file_extension": ".py",
   "mimetype": "text/x-python",
   "name": "python",
   "nbconvert_exporter": "python",
   "pygments_lexer": "ipython3",
   "version": "3.9.16"
  }
 },
 "nbformat": 4,
 "nbformat_minor": 5
}
