{
 "cells": [
  {
   "cell_type": "code",
   "execution_count": null,
   "id": "60076c17",
   "metadata": {},
   "outputs": [],
   "source": [
    "def ClassificationEvaluation1(O_GT, GT, result_file):\n",
    "    maskA = GT[:, :, 1] > 200\n",
    "    maskA = np.logical_not(maskA)\n",
    "    maskM = np.logical_and(GT[:, :, 0], maskA)\n",
    "    maskN = np.logical_and(GT[:, :, 2], maskA)\n",
    "\n",
    "    maskA_O = O_GT[:, :, 1] > 200\n",
    "    maskA_O = np.logical_not(maskA_O)\n",
    "    # maskM_O = np.logical_and(O_GT[:, :, 0], maskA_O)\n",
    "    # maskN_O = np.logical_and(O_GT[:, :, 2], maskA_O)\n",
    "    maskM_O = np.logical_and(O_GT[:, :, 2], maskA_O)\n",
    "    maskN_O = np.logical_and(O_GT[:, :, 0], maskA_O)\n",
    "\n",
    "    sensetivity = np.zeros((2, 1))\n",
    "    precision = np.zeros((2, 1))\n",
    "    specificity = np.zeros((2, 1))\n",
    "    accuracy = np.zeros((2, 1))\n",
    "    JaccardIndex = np.zeros((2, 1))\n",
    "    DiceIndex = np.zeros((2, 1))\n",
    "    Fscore = np.zeros((2, 1))\n",
    "\n",
    "    sensetivity[0], precision[0], specificity[0], accuracy[0], JaccardIndex[0], DiceIndex[0], Fscore[0] = MeasurmentsEvaulation(maskM, maskM_O)\n",
    "    sensetivity[1], precision[1], specificity[1], accuracy[1], JaccardIndex[1], DiceIndex[1], Fscore[1] = MeasurmentsEvaulation(maskN, maskN_O)\n",
    "\n",
    "    MMM = np.concatenate((sensetivity, precision, specificity, accuracy, JaccardIndex, DiceIndex, Fscore), axis=1)\n",
    "\n",
    "    print('Sensitivity (maskM):', sensetivity[0])\n",
    "    print('Precision (maskM):', precision[0])\n",
    "    print('Specificity (maskM):', specificity[0])\n",
    "    print('Accuracy (maskM):', accuracy[0])\n",
    "    print('Jaccard Index (maskM):', JaccardIndex[0])\n",
    "    print('Dice Index (maskM):', DiceIndex[0])\n",
    "    print('F-score (maskM):', Fscore[0], '\\n')\n",
    "\n",
    "    print('Sensitivity (maskN):', sensetivity[1])\n",
    "    print('Precision (maskN):', precision[1])\n",
    "    print('Specificity (maskN):', specificity[1])\n",
    "    print('Accuracy (maskN):', accuracy[1])\n",
    "    print('Jaccard Index (maskN):', JaccardIndex[1])\n",
    "    print('Dice Index (maskN):', DiceIndex[1])\n",
    "    print('F-score (maskN):', Fscore[1], '\\n')\n",
    "\n",
    "    with open(result_file, 'w') as fid:\n",
    "        fid.write('MaskM Sensitivity,MaskM Precision,MaskM Specificity,MaskM Accuracy,MaskM Jaccard Index,MaskM Dice Index,MaskM F-score\\n')\n",
    "        fid.write(f'{MMM[0, 0]},{MMM[0, 1]},{MMM[0, 2]},{MMM[0, 3]},{MMM[0, 4]},{MMM[0, 5]},{MMM[0, 6]}\\n')\n",
    "        fid.write('MaskN Sensitivity,MaskN Precision,MaskN Specificity,MaskN Accuracy,MaskN Jaccard Index,MaskN Dice Index,MaskN F-score\\n')\n",
    "        fid.write(f'{MMM[1, 0]},{MMM[1, 1]},{MMM[1, 2]},{MMM[1, 3]},{MMM[1, 4]},{MMM[1, 5]},{MMM[1, 6]}\\n')\n",
    "\n",
    "        \n"
   ]
  }
 ],
 "metadata": {
  "kernelspec": {
   "display_name": "Python 3 (ipykernel)",
   "language": "python",
   "name": "python3"
  },
  "language_info": {
   "codemirror_mode": {
    "name": "ipython",
    "version": 3
   },
   "file_extension": ".py",
   "mimetype": "text/x-python",
   "name": "python",
   "nbconvert_exporter": "python",
   "pygments_lexer": "ipython3",
   "version": "3.9.16"
  }
 },
 "nbformat": 4,
 "nbformat_minor": 5
}
