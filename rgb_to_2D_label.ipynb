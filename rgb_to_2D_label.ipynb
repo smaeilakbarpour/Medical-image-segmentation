{
 "cells": [
  {
   "cell_type": "code",
   "execution_count": 1,
   "id": "27857236",
   "metadata": {},
   "outputs": [
    {
     "name": "stdout",
     "output_type": "stream",
     "text": [
      "\"rgb_to_2D_label\" function is called\n"
     ]
    }
   ],
   "source": [
    "def rgb_to_2D_label(mask_dataset):\n",
    "    \"\"\"\n",
    "    Suply our labale masks as input in RGB format. \n",
    "    Replace pixels with specific RGB values ...\n",
    "    \"\"\"\n",
    "    label_seg = np.zeros(mask_dataset.shape,dtype=np.uint8)   #int32 , uint8\n",
    "    label_seg [np.all(mask_dataset == (255, 0, 0), axis=-1)] = 0  # melanoma\n",
    "    label_seg [np.all(mask_dataset == (0, 0, 255), axis=-1)] = 1  # non-melanoma\n",
    "    label_seg [np.all(mask_dataset == (255, 255, 255), axis=-1)] = 2  # background\n",
    "   \n",
    "    label_seg = label_seg[:,:,0]  #Just take the first channel, no need for all 3 channels\n",
    "    #print (\"label_seg.shape=\",label_seg.shape)\n",
    "    \n",
    "    return label_seg\n",
    "print('\"rgb_to_2D_label\" function is called')"
   ]
  }
 ],
 "metadata": {
  "kernelspec": {
   "display_name": "Python 3 (ipykernel)",
   "language": "python",
   "name": "python3"
  },
  "language_info": {
   "codemirror_mode": {
    "name": "ipython",
    "version": 3
   },
   "file_extension": ".py",
   "mimetype": "text/x-python",
   "name": "python",
   "nbconvert_exporter": "python",
   "pygments_lexer": "ipython3",
   "version": "3.9.16"
  }
 },
 "nbformat": 4,
 "nbformat_minor": 5
}
